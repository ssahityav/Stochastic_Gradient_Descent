{
 "cells": [
  {
   "cell_type": "markdown",
   "metadata": {
    "id": "VKbRSU9tSoRD"
   },
   "source": [
    "# Gradient descent \n",
    "\n",
    "### Difference between gradient descent and stochastic gradient descent\n",
    "Gradient and Stochastic Gradient Descent are ways of optimizing model parameters in an iterative manner in order to minimize the error functions.\n",
    "While Gradient Descent re-adjusts the optimal weights by calculating the local minima over the entire set of training data, Stocastic Gradient Descent keeps makes minor updates to the weights on each training data, one at a time.\n",
    "\n",
    "#### **Gradient descent:**\n",
    "\n",
    "##### Pros:\n",
    "\n",
    "*   It takes less noisy steps towards the minima of the loss function because it takes the average of all the training sample rather than a single sample\n",
    "*   It produces more stable gradient descent convergence and stable error gradient than the SDG\n",
    "\n",
    "##### Cons:\n",
    "\n",
    "*   Gradient Descent can take too long to process all the training samples as a batch, if the number of parameters are too large.\n",
    "*   Could approach at a local minima instead of the global minima of the cost function\n",
    "*   Model has to be retrained and re-deployed periodically should trends change and our training dataset becomes obsolete\n",
    "\n",
    "#### **Stochastic Gradient Descent:**\n",
    "\n",
    "##### Pros:\n",
    "\n",
    "*   Due to the frequent updates that it takes to reach the minima, the loss function has oscillations which can help it get out of the local minima \n",
    "*   For large dataset, it can converge faster as it updates the parameters more frequently\n",
    "*   Ideal for on-line or real-time learning.\n",
    "*   Model can adapt to changing trends over time without having to be re-trained and deployed\n",
    "\n",
    "##### Cons:\n",
    "\n",
    "*   Noisy steps can take longer to converge onto the minima of the loss function\n",
    "\n",
    "***"
   ]
  },
  {
   "cell_type": "markdown",
   "metadata": {
    "id": "uQ8eqNmwTWsK"
   },
   "source": [
    "# Implementing Stochastic gradient descent\n",
    "\n",
    "Here, we are coding an SGD solution in Python for this non-linear model$$ y = w_0 + w_1x_1 + w_2x_1x_2 + w_3e^{-x_1} $$ \n",
    "The **init** function of the class takes as input the learning rate, regularization constant and number of epochs. <br>\n",
    "The **fit** method must take as input X, y. <br>\n",
    "The **predict** method takes an X value (optionally, an array of values). <br>"
   ]
  },
  {
   "cell_type": "code",
   "execution_count": 7,
   "metadata": {
    "id": "l676O-DJUKUM"
   },
   "outputs": [],
   "source": [
    "%matplotlib inline\n",
    "import random\n",
    "import numpy as np\n",
    "import matplotlib.pyplot as plt\n",
    "import pandas as pd\n",
    "\n",
    "class Regression:\n",
    "    \n",
    "    def __init__(self, learning_rate, regularization, n_epoch):\n",
    "        self.learning_rate = learning_rate\n",
    "        self.n_epoch = n_epoch\n",
    "        self.regularization = regularization\n",
    "        # initialize whichever variables you would need here\n",
    "        self.coef = np.zeros(4)\n",
    "        \n",
    "    def sgd(self, gradient):\n",
    "        # please put your codes here to update the self.coef using SGD\n",
    "        self.coef -= gradient*(self.learning_rate)\n",
    "        # regularizing all except the w0 term\n",
    "        self.coef[1:] -= (self.regularization*self.coef[1:])*(self.learning_rate)\n",
    "    \n",
    "    def fit(self, X, y, update_rule='bgd', plot=False):\n",
    "        mse = []\n",
    "        coefs = []\n",
    "        X = self.get_features(X)\n",
    "        \n",
    "        for epoch in range(self.n_epoch):\n",
    "            if update_rule == \"bgd\":\n",
    "                gradient = np.dot(X.T,(self.linearPredict(X) - y))\n",
    "                self.sgd(gradient)\n",
    "            \n",
    "            elif update_rule == \"sgd\":\n",
    "                gradient = np.array([0.0]*self.coef.shape[0])\n",
    "                for i in range(X.shape[0]):\n",
    "                # Compute error\n",
    "                   #please put your codes here\n",
    "                   hypothesis = self.linearPredict(X[i]) # Predicted Y\n",
    "                   error = hypothesis - y[i]\n",
    "                # Compute gradients\n",
    "                    #please put your codes here\n",
    "                   gradient = error*X[i]   \n",
    "                # Update weights\n",
    "                   self.sgd(gradient)\n",
    "\n",
    "            coefs.append(self.coef.copy())\n",
    "            residuals = y - self.linearPredict(X)         \n",
    "            mse.append(np.mean(residuals**2))\n",
    "\n",
    "        self.lowest_mse = mse[-1]\n",
    "        if plot == True:\n",
    "            plt.figure()\n",
    "            plt.plot(range(self.n_epoch),mse)\n",
    "            plt.xlabel('epoch')\n",
    "            plt.ylabel('MSE')\n",
    "            plt.figure()\n",
    "            coefs = np.array(coefs)\n",
    "            plt.plot(range(self.n_epoch),coefs[:,0],label='w0')\n",
    "            plt.plot(range(self.n_epoch),coefs[:,1],label='w1')\n",
    "            plt.plot(range(self.n_epoch),coefs[:,2],label='w2')\n",
    "            plt.plot(range(self.n_epoch),coefs[:,3],label='w3')\n",
    "            plt.legend()\n",
    "            plt.xlabel('epoch')\n",
    "            plt.ylabel('parameter value')\n",
    "\n",
    "    def get_features(self, X):\n",
    "        '''\n",
    "        this output of this function can be used to compute the gradient in `fit`\n",
    "        '''\n",
    "        x = np.zeros((X.shape[0], 4))\n",
    "        x[:,0] = 1\n",
    "        x[:,1] = X[:,0]\n",
    "        x[:,2] = X[:,0]*X[:,1]\n",
    "        x[:,3] = np.exp(-X[:,0])\n",
    "        \n",
    "        return x\n",
    "        \n",
    "    def linearPredict(self, X):  \n",
    "      #compute the dot product of self.coef and X\n",
    "      return np.dot(X, self.coef)"
   ]
  },
  {
   "cell_type": "code",
   "execution_count": 8,
   "metadata": {
    "id": "CvOp8kdxUNCP"
   },
   "outputs": [],
   "source": [
    "data = pd.read_csv('SGD_samples.csv')\n",
    "X = np.array([data['x1'].values, data['x2'].values]).T\n",
    "y = data['y'].values\n",
    "n_epochs = 15\n",
    "learning_rate = [0.0001, 0.001, 0.01, 0.1, 1, 10, 100]\n",
    "regularization = [0, 10, 100]"
   ]
  },
  {
   "cell_type": "markdown",
   "metadata": {},
   "source": [
    "## Reporting the MSEs for different hyper-parameters"
   ]
  },
  {
   "cell_type": "code",
   "execution_count": 9,
   "metadata": {},
   "outputs": [
    {
     "name": "stderr",
     "output_type": "stream",
     "text": [
      "/var/folders/y3/v6fyb_rs72bcn7ftc3lvwvmw0000gn/T/ipykernel_43154/2036988196.py:21: RuntimeWarning: overflow encountered in multiply\n",
      "  self.coef[1:] -= (self.regularization*self.coef[1:])*(self.learning_rate)#*(1/self.N))\n",
      "/var/folders/y3/v6fyb_rs72bcn7ftc3lvwvmw0000gn/T/ipykernel_43154/2036988196.py:19: RuntimeWarning: invalid value encountered in subtract\n",
      "  self.coef -= gradient*(self.learning_rate)#*(1/self.N))\n",
      "/var/folders/y3/v6fyb_rs72bcn7ftc3lvwvmw0000gn/T/ipykernel_43154/2036988196.py:21: RuntimeWarning: invalid value encountered in subtract\n",
      "  self.coef[1:] -= (self.regularization*self.coef[1:])*(self.learning_rate)#*(1/self.N))\n",
      "/var/folders/y3/v6fyb_rs72bcn7ftc3lvwvmw0000gn/T/ipykernel_43154/2036988196.py:49: RuntimeWarning: overflow encountered in square\n",
      "  mse.append(np.mean(residuals**2))\n",
      "/var/folders/y3/v6fyb_rs72bcn7ftc3lvwvmw0000gn/T/ipykernel_43154/2036988196.py:21: RuntimeWarning: invalid value encountered in multiply\n",
      "  self.coef[1:] -= (self.regularization*self.coef[1:])*(self.learning_rate)#*(1/self.N))\n",
      "/var/folders/y3/v6fyb_rs72bcn7ftc3lvwvmw0000gn/T/ipykernel_43154/2036988196.py:19: RuntimeWarning: overflow encountered in multiply\n",
      "  self.coef -= gradient*(self.learning_rate)#*(1/self.N))\n"
     ]
    },
    {
     "data": {
      "text/html": [
       "<div>\n",
       "<style scoped>\n",
       "    .dataframe tbody tr th:only-of-type {\n",
       "        vertical-align: middle;\n",
       "    }\n",
       "\n",
       "    .dataframe tbody tr th {\n",
       "        vertical-align: top;\n",
       "    }\n",
       "\n",
       "    .dataframe thead th {\n",
       "        text-align: right;\n",
       "    }\n",
       "</style>\n",
       "<table border=\"1\" class=\"dataframe\">\n",
       "  <thead>\n",
       "    <tr style=\"text-align: right;\">\n",
       "      <th></th>\n",
       "      <th>0.0001</th>\n",
       "      <th>0.0010</th>\n",
       "      <th>0.0100</th>\n",
       "      <th>0.1000</th>\n",
       "      <th>1.0000</th>\n",
       "      <th>10.0000</th>\n",
       "      <th>100.0000</th>\n",
       "    </tr>\n",
       "  </thead>\n",
       "  <tbody>\n",
       "    <tr>\n",
       "      <th>0</th>\n",
       "      <td>0.036821</td>\n",
       "      <td>0.030496</td>\n",
       "      <td>0.027391</td>\n",
       "      <td>0.030988</td>\n",
       "      <td>inf</td>\n",
       "      <td>NaN</td>\n",
       "      <td>NaN</td>\n",
       "    </tr>\n",
       "    <tr>\n",
       "      <th>10</th>\n",
       "      <td>0.040382</td>\n",
       "      <td>0.033707</td>\n",
       "      <td>0.033821</td>\n",
       "      <td>0.034648</td>\n",
       "      <td>NaN</td>\n",
       "      <td>NaN</td>\n",
       "      <td>NaN</td>\n",
       "    </tr>\n",
       "    <tr>\n",
       "      <th>100</th>\n",
       "      <td>0.040672</td>\n",
       "      <td>0.033795</td>\n",
       "      <td>0.033805</td>\n",
       "      <td>NaN</td>\n",
       "      <td>NaN</td>\n",
       "      <td>NaN</td>\n",
       "      <td>NaN</td>\n",
       "    </tr>\n",
       "  </tbody>\n",
       "</table>\n",
       "</div>"
      ],
      "text/plain": [
       "     0.0001    0.0010    0.0100    0.1000   1.0000   10.0000  100.0000\n",
       "0    0.036821  0.030496  0.027391  0.030988      inf      NaN      NaN\n",
       "10   0.040382  0.033707  0.033821  0.034648      NaN      NaN      NaN\n",
       "100  0.040672  0.033795  0.033805       NaN      NaN      NaN      NaN"
      ]
     },
     "execution_count": 9,
     "metadata": {},
     "output_type": "execute_result"
    }
   ],
   "source": [
    "mse = pd.DataFrame(columns=learning_rate, index=regularization)\n",
    "for alpha in learning_rate:\n",
    "    for lamda in regularization:\n",
    "        mdl = Regression(learning_rate = alpha, regularization= lamda, n_epoch= n_epochs)\n",
    "        mdl.fit(X,y, update_rule=\"sgd\", plot= False)\n",
    "        mse[alpha][lamda] = mdl.lowest_mse\n",
    "mse"
   ]
  },
  {
   "cell_type": "code",
   "execution_count": 10,
   "metadata": {},
   "outputs": [
    {
     "name": "stdout",
     "output_type": "stream",
     "text": [
      "MSE for SGD with Leaning Rate 0.01 and Regularisation Coefficient 0: 0.0274\n"
     ]
    },
    {
     "data": {
      "image/png": "[encoded data removed]",
      "text/plain": [
       "<Figure size 432x288 with 1 Axes>"
      ]
     },
     "metadata": {
      "needs_background": "light"
     },
     "output_type": "display_data"
    },
    {
     "data": {
      "image/png": "[encoded data removed]",
      "text/plain": [
       "<Figure size 432x288 with 1 Axes>"
      ]
     },
     "metadata": {
      "needs_background": "light"
     },
     "output_type": "display_data"
    }
   ],
   "source": [
    "# Minimum MSE for learning rate = 0.01 and regularization parameter = 0\n",
    "alpha = 0.01\n",
    "lamda = 0\n",
    "mdl = Regression(learning_rate = alpha, regularization= lamda, n_epoch= n_epochs)\n",
    "mdl.fit(X,y, update_rule=\"sgd\", plot= True)\n",
    "print(\"MSE for SGD with Leaning Rate {alpha} and Regularisation Coefficient {lamda}: {mse}\".format(alpha = alpha, lamda = lamda, mse = round(mdl.lowest_mse, 4)))\n"
   ]
  },
  {
   "cell_type": "code",
   "execution_count": 11,
   "metadata": {},
   "outputs": [
    {
     "name": "stdout",
     "output_type": "stream",
     "text": [
      "MSE for SGD with Leaning Rate 0.001 and Regularisation Coefficient 0: 0.0305\n"
     ]
    },
    {
     "data": {
      "image/png": "[encoded data removed]",
      "text/plain": [
       "<Figure size 432x288 with 1 Axes>"
      ]
     },
     "metadata": {
      "needs_background": "light"
     },
     "output_type": "display_data"
    },
    {
     "data": {
      "image/png": "[encoded data removed]",
      "text/plain": [
       "<Figure size 432x288 with 1 Axes>"
      ]
     },
     "metadata": {
      "needs_background": "light"
     },
     "output_type": "display_data"
    }
   ],
   "source": [
    "# Second Minimum MSE for learning rate = 0.001 and regularization parameter = 0\n",
    "alpha = 0.001\n",
    "lamda = 0\n",
    "mdl = Regression(learning_rate = alpha, regularization= lamda, n_epoch= n_epochs)\n",
    "mdl.fit(X,y, update_rule=\"sgd\", plot= True)\n",
    "print(\"MSE for SGD with Leaning Rate {alpha} and Regularisation Coefficient {lamda}: {mse}\".format(alpha = alpha, lamda = lamda, mse = round(mdl.lowest_mse, 4)))\n"
   ]
  },
  {
   "cell_type": "markdown",
   "metadata": {
    "id": "Na3FbmyUUQF3"
   },
   "source": [
    "- **Minimum**\n",
    "  - Leaning Rate: 0.01\n",
    "  - Regularisation Coefficient: 0\n",
    "  - MSE: 0.0274\n",
    "\n",
    "- **Second Smallest**\n",
    "  - Leaning Rate: 0.001\n",
    "  - Regularisation Coefficient: 0\n",
    "  - MSE: 0.0305\n"
   ]
  }
 ],
 "metadata": {
  "colab": {
   "collapsed_sections": [],
   "name": "MIS382N-HW2.ipynb",
   "provenance": []
  },
  "interpreter": {
   "hash": "4361aab12e46f73717a057315632a39c5720c41841579418b91b07fe756a6691"
  },
  "kernelspec": {
   "display_name": "Python 3",
   "language": "python",
   "name": "python3"
  },
  "language_info": {
   "codemirror_mode": {
    "name": "ipython",
    "version": 3
   },
   "file_extension": ".py",
   "mimetype": "text/x-python",
   "name": "python",
   "nbconvert_exporter": "python",
   "pygments_lexer": "ipython3",
   "version": "3.8.8"
  }
 },
 "nbformat": 4,
 "nbformat_minor": 2
}
